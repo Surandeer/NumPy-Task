{
 "cells": [
  {
   "cell_type": "code",
   "execution_count": 8,
   "id": "029ae0f7-7d1d-4e17-a2ab-808f4a9476ad",
   "metadata": {},
   "outputs": [
    {
     "name": "stdout",
     "output_type": "stream",
     "text": [
      "Mean: 3.0\n",
      "Standard Deviation: 1.4142135623730951\n"
     ]
    }
   ],
   "source": [
    "#Mean and Standard Deviation\n",
    "\n",
    "import numpy as np\n",
    "arr = np.array([1, 2, 3, 4, 5])\n",
    "mean = np.mean(arr)\n",
    "std_deviation = np.std(arr)\n",
    "print(\"Mean:\", mean)\n",
    "print(\"Standard Deviation:\", std_deviation)"
   ]
  },
  {
   "cell_type": "code",
   "execution_count": 7,
   "id": "227bffec-780d-4c0d-aad1-16a54a3acb5a",
   "metadata": {},
   "outputs": [
    {
     "name": "stdout",
     "output_type": "stream",
     "text": [
      "Random Matrix:\n",
      "[[0.09844601 0.73891495 0.3361915  0.64752623 0.32651904]\n",
      " [0.87549833 0.04277114 0.70430932 0.46289867 0.590474  ]\n",
      " [0.04108246 0.22862836 0.18784961 0.53295932 0.55719469]\n",
      " [0.44622866 0.2831521  0.70324731 0.62600683 0.36322471]\n",
      " [0.81128413 0.19851963 0.83275393 0.08557572 0.75165828]]\n",
      "\n",
      "Minimum values along each row:\n",
      "[0.09844601 0.04277114 0.04108246 0.2831521  0.08557572]\n",
      "\n",
      "Maximum values along each row:\n",
      "[0.73891495 0.87549833 0.55719469 0.70324731 0.83275393]\n",
      "\n",
      "Minimum values along each column:\n",
      "[0.04108246 0.04277114 0.18784961 0.08557572 0.32651904]\n",
      "\n",
      "Maximum values along each column:\n",
      "[0.87549833 0.73891495 0.83275393 0.64752623 0.75165828]\n"
     ]
    }
   ],
   "source": [
    "#5x5 Matrix\n",
    "\n",
    "print(\"Random Matrix:\")\n",
    "print(random_matrix)\n",
    "min_row_values = np.min(random_matrix, axis=1)\n",
    "max_row_values = np.max(random_matrix, axis=1)\n",
    "print(\"\\nMinimum values along each row:\")\n",
    "print(min_row_values)\n",
    "print(\"\\nMaximum values along each row:\")\n",
    "print(max_row_values)\n",
    "min_col_values = np.min(random_matrix, axis=0)\n",
    "max_col_values = np.max(random_matrix, axis=0)\n",
    "print(\"\\nMinimum values along each column:\")\n",
    "print(min_col_values)\n",
    "print(\"\\nMaximum values along each column:\")\n",
    "print(max_col_values)\n"
   ]
  },
  {
   "cell_type": "code",
   "execution_count": 6,
   "id": "87424684-8658-4113-86ec-f16ebc8769da",
   "metadata": {},
   "outputs": [
    {
     "name": "stdout",
     "output_type": "stream",
     "text": [
      "Cos Similarity: 0.9746318461970762\n"
     ]
    }
   ],
   "source": [
    "#Cosine Similarity Function\n",
    "\n",
    "def cos_similarity(vector1, vector2):\n",
    "  \n",
    "    dot_product = np.dot(vector1, vector2)\n",
    "    vector_1 = np.linalg.norm(vector1)\n",
    "    vector_2 = np.linalg.norm(vector2)\n",
    "    \n",
    "    cos_sim = dot_product / (vector_1 * vector_2)\n",
    "    \n",
    "    return cos_sim\n",
    "\n",
    "vector1 = np.array([1, 2, 3])\n",
    "vector2 = np.array([4, 5, 6])\n",
    "\n",
    "print(\"Cos Similarity:\", cos_similarity(vector1, vector2))"
   ]
  }
 ],
 "metadata": {
  "kernelspec": {
   "display_name": "Python 3 (ipykernel)",
   "language": "python",
   "name": "python3"
  },
  "language_info": {
   "codemirror_mode": {
    "name": "ipython",
    "version": 3
   },
   "file_extension": ".py",
   "mimetype": "text/x-python",
   "name": "python",
   "nbconvert_exporter": "python",
   "pygments_lexer": "ipython3",
   "version": "3.12.3"
  }
 },
 "nbformat": 4,
 "nbformat_minor": 5
}
